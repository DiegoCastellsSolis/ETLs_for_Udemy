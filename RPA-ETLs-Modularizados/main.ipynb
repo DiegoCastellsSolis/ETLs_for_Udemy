{
 "cells": [
  {
   "cell_type": "code",
   "execution_count": 2,
   "metadata": {},
   "outputs": [
    {
     "ename": "ImportError",
     "evalue": "cannot import name 'extract_data' from 'src.etl' (c:\\Users\\Diego\\Desktop\\ETL-APIs\\RPA-ETLs-Modularizados\\src\\etl.py)",
     "output_type": "error",
     "traceback": [
      "\u001b[1;31m---------------------------------------------------------------------------\u001b[0m",
      "\u001b[1;31mImportError\u001b[0m                               Traceback (most recent call last)",
      "Cell \u001b[1;32mIn[2], line 1\u001b[0m\n\u001b[1;32m----> 1\u001b[0m \u001b[38;5;28;01mfrom\u001b[39;00m \u001b[38;5;21;01msrc\u001b[39;00m\u001b[38;5;21;01m.\u001b[39;00m\u001b[38;5;21;01metl\u001b[39;00m \u001b[38;5;28;01mimport\u001b[39;00m extract_data, transform_data, load_data\n\u001b[0;32m      3\u001b[0m \u001b[38;5;28;01mdef\u001b[39;00m \u001b[38;5;21mmain\u001b[39m():\n\u001b[0;32m      4\u001b[0m     csv_path \u001b[38;5;241m=\u001b[39m \u001b[38;5;124m'\u001b[39m\u001b[38;5;124m./data/source/experiencias_por_pais.csv\u001b[39m\u001b[38;5;124m'\u001b[39m\n",
      "\u001b[1;31mImportError\u001b[0m: cannot import name 'extract_data' from 'src.etl' (c:\\Users\\Diego\\Desktop\\ETL-APIs\\RPA-ETLs-Modularizados\\src\\etl.py)"
     ]
    }
   ],
   "source": [
    "from src.etl import extract_data, transform_data, load_data\n",
    "\n",
    "def main():\n",
    "    csv_path = './data/source/experiencias_por_pais.csv'\n",
    "    target_path = './data/target/'\n",
    "\n",
    "    # Etapa de extracción\n",
    "    df = extract_data(csv_path)\n",
    "\n",
    "    # Etapa de transformación\n",
    "    unique_countries = transform_data(df)\n",
    "\n",
    "    # Etapa de carga\n",
    "    load_data(df, target_path)\n",
    "\n",
    "if __name__ == '__main__':\n",
    "    main()\n"
   ]
  },
  {
   "cell_type": "code",
   "execution_count": null,
   "metadata": {},
   "outputs": [],
   "source": []
  }
 ],
 "metadata": {
  "kernelspec": {
   "display_name": "Python 3",
   "language": "python",
   "name": "python3"
  },
  "language_info": {
   "codemirror_mode": {
    "name": "ipython",
    "version": 3
   },
   "file_extension": ".py",
   "mimetype": "text/x-python",
   "name": "python",
   "nbconvert_exporter": "python",
   "pygments_lexer": "ipython3",
   "version": "3.10.11"
  }
 },
 "nbformat": 4,
 "nbformat_minor": 2
}
